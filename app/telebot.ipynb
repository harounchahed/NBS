{
 "cells": [
  {
   "cell_type": "code",
   "execution_count": 4,
   "metadata": {},
   "outputs": [
    {
     "name": "stdout",
     "output_type": "stream",
     "text": [
      "{'id': 491905862, 'is_bot': True, 'first_name': 'NobleSheetCalendar', 'username': 'noblesheetbot'}\n"
     ]
    }
   ],
   "source": [
    "# Communicate with Telegram service periodically - provide special URL to your bot when an event occurs\n",
    "    # using API call getUpdates\n",
    "    # setting up a Webhook \n",
    "        # option 1: obtain a valid SSL certificate \n",
    "        # option 2: generate self-signed certificate using tools like OpenSSL\n",
    "        \n",
    "\n",
    "import telepot\n",
    "token = '491905862:AAFLeZ9-H56wumXpGN0LoyUN_1Dmm751nH8'\n",
    "TelegramBot = telepot.Bot(token)\n",
    "print (TelegramBot.getMe())\n",
    "\n",
    "# alternatively\n",
    "# https://api.telegram.org/bot<your-bot-token>/getme"
   ]
  },
  {
   "cell_type": "code",
   "execution_count": 5,
   "metadata": {
    "collapsed": true
   },
   "outputs": [
    {
     "data": {
      "text/plain": [
       "[{'update_id': 735673187,\n",
       "  'message': {'message_id': 1,\n",
       "   'from': {'id': 174620295,\n",
       "    'is_bot': False,\n",
       "    'first_name': 'Audrey',\n",
       "    'username': 'Audreyyytan'},\n",
       "   'chat': {'id': 174620295,\n",
       "    'first_name': 'Audrey',\n",
       "    'username': 'Audreyyytan',\n",
       "    'type': 'private'},\n",
       "   'date': 1529723394,\n",
       "   'text': '/start',\n",
       "   'entities': [{'offset': 0, 'length': 6, 'type': 'bot_command'}]}}]"
      ]
     },
     "execution_count": 5,
     "metadata": {},
     "output_type": "execute_result"
    }
   ],
   "source": [
    "# Getting text details\n",
    "    # update_id is tied to the message id (increases in chronological order)\n",
    "TelegramBot.getUpdates()"
   ]
  },
  {
   "cell_type": "code",
   "execution_count": 27,
   "metadata": {},
   "outputs": [],
   "source": [
    "import json \n",
    "import requests\n",
    "\n",
    "TOKEN = '491905862:AAFLeZ9-H56wumXpGN0LoyUN_1Dmm751nH8'\n",
    "URL = \"https://api.telegram.org/bot{}/\".format(TOKEN)\n",
    "\n",
    "\n",
    "# downloads from url and returns a string\n",
    "# no exceptions used for simplicity\n",
    "def get_url(url):\n",
    "    response = requests.get(url)\n",
    "    content = response.content.decode(\"utf8\")\n",
    "    return content\n",
    "\n",
    "\n",
    "# parses string response into a python dictionary\n",
    "def get_json_from_url(url):\n",
    "    content = get_url(url)\n",
    "    js = json.loads(content)\n",
    "    return js\n",
    "\n",
    "\n",
    "# calls api command to retrieve list of updates\n",
    "def get_updates():\n",
    "    url = URL + \"getUpdates\"\n",
    "    js = get_json_from_url(url)\n",
    "    return js\n",
    "\n",
    "\n",
    "# get chat id and message text\n",
    "def get_last_chat_id_and_text(updates):\n",
    "    num_updates = len(updates[\"result\"])\n",
    "    last_update = num_updates - 1\n",
    "    text = updates[\"result\"][last_update][\"message\"][\"text\"]\n",
    "    chat_id = updates[\"result\"][last_update][\"message\"][\"chat\"][\"id\"]\n",
    "    return (text, chat_id)\n",
    "\n",
    "\n",
    "def send_message(text, chat_id):\n",
    "    url = URL + \"sendMessage?text={}&chat_id={}\".format(text, chat_id)\n",
    "    get_url(url)\n",
    "    \n",
    "\n",
    "text, chat = get_last_chat_id_and_text(get_updates())\n",
    "send_message(text, chat)"
   ]
  },
  {
   "cell_type": "code",
   "execution_count": 32,
   "metadata": {},
   "outputs": [],
   "source": [
    "rude = [\"Oi\", \"hey bitch\", \"Fuck you\"]\n",
    "nice = [\"hello\", \"hi\", \"hey beautiful\"]"
   ]
  },
  {
   "cell_type": "code",
   "execution_count": 33,
   "metadata": {},
   "outputs": [],
   "source": [
    "text, chat = get_last_chat_id_and_text(get_updates())\n",
    "if text in rude:\n",
    "    send_message(\"Eh fuck u\", chat)\n",
    "elif text in nice:\n",
    "    send_message(\"hey sweetheart\", chat)\n",
    "elif text not in rude or nice:\n",
    "    send_message(\"sorry repeat\", chat)"
   ]
  },
  {
   "cell_type": "code",
   "execution_count": 14,
   "metadata": {},
   "outputs": [],
   "source": [
    "# # -*- coding: utf8 -*-\n",
    "# from xml.etree import cElementTree\n",
    "# import requests\n",
    "# def parse_planetpy_rss():\n",
    "#     \"\"\"Parses first 10 items from http://planetpython.org/rss20.xml\n",
    "#     \"\"\"\n",
    "#     response = requests.get('http://planetpython.org/rss20.xml')\n",
    "#     parsed_xml = cElementTree.fromstring(response.content)\n",
    "#     items = []\n",
    "#     for node in parsed_xml.iter():\n",
    "#         if node.tag == 'item':\n",
    "#             item = {}\n",
    "#             for item_node in list(node):\n",
    "#                 if item_node.tag == 'title':\n",
    "#                     item['title'] = item_node.text\n",
    "#                 if item_node.tag == 'link':\n",
    "#                     item['link'] = item_node.text\n",
    "#             items.append(item)\n",
    "#     return items[:10]"
   ]
  },
  {
   "cell_type": "code",
   "execution_count": 20,
   "metadata": {
    "collapsed": true
   },
   "outputs": [
    {
     "ename": "NameError",
     "evalue": "name 'csrf_exempt' is not defined",
     "traceback": [
      "\u001b[1;31m---------------------------------------------------------------------------\u001b[0m",
      "\u001b[1;31mNameError\u001b[0m                                 Traceback (most recent call last)",
      "\u001b[1;32m<ipython-input-20-60133a7e5156>\u001b[0m in \u001b[0;36m<module>\u001b[1;34m()\u001b[0m\n\u001b[0;32m      9\u001b[0m \u001b[1;32mdef\u001b[0m \u001b[0m_display_planetpy_feed\u001b[0m\u001b[1;33m(\u001b[0m\u001b[1;33m)\u001b[0m\u001b[1;33m:\u001b[0m\u001b[1;33m\u001b[0m\u001b[0m\n\u001b[0;32m     10\u001b[0m     \u001b[1;32mreturn\u001b[0m \u001b[0mrender_to_string\u001b[0m\u001b[1;33m(\u001b[0m\u001b[1;34m'feed.md'\u001b[0m\u001b[1;33m,\u001b[0m \u001b[1;33m{\u001b[0m\u001b[1;34m'items'\u001b[0m\u001b[1;33m:\u001b[0m \u001b[0mparse_planetpy_rss\u001b[0m\u001b[1;33m(\u001b[0m\u001b[1;33m)\u001b[0m\u001b[1;33m}\u001b[0m\u001b[1;33m)\u001b[0m\u001b[1;33m\u001b[0m\u001b[0m\n\u001b[1;32m---> 11\u001b[1;33m \u001b[1;32mclass\u001b[0m \u001b[0mCommandReceiveView\u001b[0m\u001b[1;33m(\u001b[0m\u001b[0mView\u001b[0m\u001b[1;33m)\u001b[0m\u001b[1;33m:\u001b[0m\u001b[1;33m\u001b[0m\u001b[0m\n\u001b[0m\u001b[0;32m     12\u001b[0m     \u001b[1;32mdef\u001b[0m \u001b[0mpost\u001b[0m\u001b[1;33m(\u001b[0m\u001b[0mself\u001b[0m\u001b[1;33m,\u001b[0m \u001b[0mrequest\u001b[0m\u001b[1;33m,\u001b[0m \u001b[0mbot_token\u001b[0m\u001b[1;33m)\u001b[0m\u001b[1;33m:\u001b[0m\u001b[1;33m\u001b[0m\u001b[0m\n\u001b[0;32m     13\u001b[0m         \u001b[1;32mif\u001b[0m \u001b[0mbot_token\u001b[0m \u001b[1;33m!=\u001b[0m \u001b[0mTOKEN\u001b[0m\u001b[1;33m:\u001b[0m\u001b[1;33m\u001b[0m\u001b[0m\n",
      "\u001b[1;32m<ipython-input-20-60133a7e5156>\u001b[0m in \u001b[0;36mCommandReceiveView\u001b[1;34m()\u001b[0m\n\u001b[0;32m     31\u001b[0m                 \u001b[0mTelegramBot\u001b[0m\u001b[1;33m.\u001b[0m\u001b[0msendMessage\u001b[0m\u001b[1;33m(\u001b[0m\u001b[0mchat_id\u001b[0m\u001b[1;33m,\u001b[0m \u001b[1;34m'I do not understand you, Sir!'\u001b[0m\u001b[1;33m)\u001b[0m\u001b[1;33m\u001b[0m\u001b[0m\n\u001b[0;32m     32\u001b[0m         \u001b[1;32mreturn\u001b[0m \u001b[0mJsonResponse\u001b[0m\u001b[1;33m(\u001b[0m\u001b[1;33m{\u001b[0m\u001b[1;33m}\u001b[0m\u001b[1;33m,\u001b[0m \u001b[0mstatus\u001b[0m\u001b[1;33m=\u001b[0m\u001b[1;36m200\u001b[0m\u001b[1;33m)\u001b[0m\u001b[1;33m\u001b[0m\u001b[0m\n\u001b[1;32m---> 33\u001b[1;33m     \u001b[1;33m@\u001b[0m\u001b[0mmethod_decorator\u001b[0m\u001b[1;33m(\u001b[0m\u001b[0mcsrf_exempt\u001b[0m\u001b[1;33m)\u001b[0m\u001b[1;33m\u001b[0m\u001b[0m\n\u001b[0m\u001b[0;32m     34\u001b[0m     \u001b[1;32mdef\u001b[0m \u001b[0mdispatch\u001b[0m\u001b[1;33m(\u001b[0m\u001b[0mself\u001b[0m\u001b[1;33m,\u001b[0m \u001b[0mrequest\u001b[0m\u001b[1;33m,\u001b[0m \u001b[1;33m*\u001b[0m\u001b[0margs\u001b[0m\u001b[1;33m,\u001b[0m \u001b[1;33m**\u001b[0m\u001b[0mkwargs\u001b[0m\u001b[1;33m)\u001b[0m\u001b[1;33m:\u001b[0m\u001b[1;33m\u001b[0m\u001b[0m\n\u001b[0;32m     35\u001b[0m         \u001b[1;32mreturn\u001b[0m \u001b[0msuper\u001b[0m\u001b[1;33m(\u001b[0m\u001b[0mCommandReceiveView\u001b[0m\u001b[1;33m,\u001b[0m \u001b[0mself\u001b[0m\u001b[1;33m)\u001b[0m\u001b[1;33m.\u001b[0m\u001b[0mdispatch\u001b[0m\u001b[1;33m(\u001b[0m\u001b[0mrequest\u001b[0m\u001b[1;33m,\u001b[0m \u001b[1;33m*\u001b[0m\u001b[0margs\u001b[0m\u001b[1;33m,\u001b[0m \u001b[1;33m**\u001b[0m\u001b[0mkwargs\u001b[0m\u001b[1;33m)\u001b[0m\u001b[1;33m\u001b[0m\u001b[0m\n",
      "\u001b[1;31mNameError\u001b[0m: name 'csrf_exempt' is not defined"
     ],
     "output_type": "error"
    }
   ],
   "source": [
    "# TOKEN = '491905862:AAFLeZ9-H56wumXpGN0LoyUN_1Dmm751nH8'\n",
    "# TelegramBot = telepot.Bot(TOKEN)\n",
    "# import django\n",
    "# # from django.views.generic import View\n",
    "# # from django.utils.decorators import method_decorator\n",
    "\n",
    "# def _display_help():\n",
    "#     return render_to_string('help.md')\n",
    "# def _display_planetpy_feed():\n",
    "#     return render_to_string('feed.md', {'items': parse_planetpy_rss()})\n",
    "# class CommandReceiveView(View):\n",
    "#     def post(self, request, bot_token):\n",
    "#         if bot_token != TOKEN:\n",
    "#             return HttpResponseForbidden('Invalid token')\n",
    "#         commands = {\n",
    "#             '/start': _display_help,\n",
    "#             'help': _display_help,\n",
    "#             'feed': _display_planetpy_feed,\n",
    "#         }\n",
    "#         try:\n",
    "#             payload = json.loads(request.body.decode('utf-8'))\n",
    "#         except ValueError:\n",
    "#             return HttpResponseBadRequest('Invalid request body')\n",
    "#         else:\n",
    "#             chat_id = payload['message']['chat']['id']\n",
    "#             cmd = payload['message'].get('text')  # command\n",
    "#             func = commands.get(cmd.split()[0].lower())\n",
    "#             if func:\n",
    "#                 TelegramBot.sendMessage(chat_id, func(), parse_mode='Markdown')\n",
    "#             else:\n",
    "#                 TelegramBot.sendMessage(chat_id, 'I do not understand you, Sir!')\n",
    "#         return JsonResponse({}, status=200)\n",
    "#     @method_decorator(csrf_exempt)\n",
    "#     def dispatch(self, request, *args, **kwargs):\n",
    "#         return super(CommandReceiveView, self).dispatch(request, *args, **kwargs)"
   ]
  },
  {
   "cell_type": "code",
   "execution_count": null,
   "metadata": {},
   "outputs": [],
   "source": []
  }
 ],
 "metadata": {
  "kernelspec": {
   "display_name": "Python 3",
   "language": "python",
   "name": "python3"
  },
  "language_info": {
   "codemirror_mode": {
    "name": "ipython",
    "version": 3
   },
   "file_extension": ".py",
   "mimetype": "text/x-python",
   "name": "python",
   "nbconvert_exporter": "python",
   "pygments_lexer": "ipython3",
   "version": "3.6.5"
  }
 },
 "nbformat": 4,
 "nbformat_minor": 2
}
